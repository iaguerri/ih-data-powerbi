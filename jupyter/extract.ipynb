{
 "cells": [
  {
   "cell_type": "markdown",
   "id": "a67e86ce",
   "metadata": {},
   "source": [
    "# 1. Extract"
   ]
  },
  {
   "cell_type": "code",
   "execution_count": null,
   "id": "3165ec5e",
   "metadata": {},
   "outputs": [],
   "source": []
  },
  {
   "cell_type": "code",
   "execution_count": 8,
   "id": "4f067a1a",
   "metadata": {},
   "outputs": [
    {
     "ename": "AttributeError",
     "evalue": "module 'numpy.random' has no attribute 'BitGenerator'",
     "output_type": "error",
     "traceback": [
      "\u001b[0;31m---------------------------------------------------------------------------\u001b[0m",
      "\u001b[0;31mAttributeError\u001b[0m                            Traceback (most recent call last)",
      "Cell \u001b[0;32mIn[8], line 1\u001b[0m\n\u001b[0;32m----> 1\u001b[0m \u001b[38;5;28;01mimport\u001b[39;00m \u001b[38;5;21;01mpandas\u001b[39;00m \u001b[38;5;28;01mas\u001b[39;00m \u001b[38;5;21;01mpd\u001b[39;00m\n\u001b[1;32m      2\u001b[0m \u001b[38;5;28;01mimport\u001b[39;00m \u001b[38;5;21;01mwarnings\u001b[39;00m\n\u001b[1;32m      3\u001b[0m warnings\u001b[38;5;241m.\u001b[39mfilterwarnings(\u001b[38;5;124m'\u001b[39m\u001b[38;5;124mignore\u001b[39m\u001b[38;5;124m'\u001b[39m)\n",
      "File \u001b[0;32m/usr/local/lib/python3.8/dist-packages/pandas/__init__.py:22\u001b[0m\n\u001b[1;32m     19\u001b[0m \u001b[38;5;28;01mdel\u001b[39;00m _hard_dependencies, _dependency, _missing_dependencies\n\u001b[1;32m     21\u001b[0m \u001b[38;5;66;03m# numpy compat\u001b[39;00m\n\u001b[0;32m---> 22\u001b[0m \u001b[38;5;28;01mfrom\u001b[39;00m \u001b[38;5;21;01mpandas\u001b[39;00m\u001b[38;5;21;01m.\u001b[39;00m\u001b[38;5;21;01mcompat\u001b[39;00m \u001b[38;5;28;01mimport\u001b[39;00m is_numpy_dev \u001b[38;5;28;01mas\u001b[39;00m _is_numpy_dev  \u001b[38;5;66;03m# pyright: ignore # noqa:F401\u001b[39;00m\n\u001b[1;32m     24\u001b[0m \u001b[38;5;28;01mtry\u001b[39;00m:\n\u001b[1;32m     25\u001b[0m     \u001b[38;5;28;01mfrom\u001b[39;00m \u001b[38;5;21;01mpandas\u001b[39;00m\u001b[38;5;21;01m.\u001b[39;00m\u001b[38;5;21;01m_libs\u001b[39;00m \u001b[38;5;28;01mimport\u001b[39;00m hashtable \u001b[38;5;28;01mas\u001b[39;00m _hashtable, lib \u001b[38;5;28;01mas\u001b[39;00m _lib, tslib \u001b[38;5;28;01mas\u001b[39;00m _tslib\n",
      "File \u001b[0;32m/usr/local/lib/python3.8/dist-packages/pandas/compat/__init__.py:17\u001b[0m\n\u001b[1;32m     14\u001b[0m \u001b[38;5;28;01mimport\u001b[39;00m \u001b[38;5;21;01msys\u001b[39;00m\n\u001b[1;32m     15\u001b[0m \u001b[38;5;28;01mfrom\u001b[39;00m \u001b[38;5;21;01mtyping\u001b[39;00m \u001b[38;5;28;01mimport\u001b[39;00m TYPE_CHECKING\n\u001b[0;32m---> 17\u001b[0m \u001b[38;5;28;01mfrom\u001b[39;00m \u001b[38;5;21;01mpandas\u001b[39;00m\u001b[38;5;21;01m.\u001b[39;00m\u001b[38;5;21;01m_typing\u001b[39;00m \u001b[38;5;28;01mimport\u001b[39;00m F\n\u001b[1;32m     18\u001b[0m \u001b[38;5;28;01mfrom\u001b[39;00m \u001b[38;5;21;01mpandas\u001b[39;00m\u001b[38;5;21;01m.\u001b[39;00m\u001b[38;5;21;01mcompat\u001b[39;00m\u001b[38;5;21;01m.\u001b[39;00m\u001b[38;5;21;01mnumpy\u001b[39;00m \u001b[38;5;28;01mimport\u001b[39;00m (\n\u001b[1;32m     19\u001b[0m     is_numpy_dev,\n\u001b[1;32m     20\u001b[0m     np_version_under1p21,\n\u001b[1;32m     21\u001b[0m )\n\u001b[1;32m     22\u001b[0m \u001b[38;5;28;01mfrom\u001b[39;00m \u001b[38;5;21;01mpandas\u001b[39;00m\u001b[38;5;21;01m.\u001b[39;00m\u001b[38;5;21;01mcompat\u001b[39;00m\u001b[38;5;21;01m.\u001b[39;00m\u001b[38;5;21;01mpyarrow\u001b[39;00m \u001b[38;5;28;01mimport\u001b[39;00m (\n\u001b[1;32m     23\u001b[0m     pa_version_under1p01,\n\u001b[1;32m     24\u001b[0m     pa_version_under2p0,\n\u001b[0;32m   (...)\u001b[0m\n\u001b[1;32m     31\u001b[0m     pa_version_under9p0,\n\u001b[1;32m     32\u001b[0m )\n",
      "File \u001b[0;32m/usr/local/lib/python3.8/dist-packages/pandas/_typing.py:133\u001b[0m\n\u001b[1;32m    126\u001b[0m Frequency \u001b[38;5;241m=\u001b[39m Union[\u001b[38;5;28mstr\u001b[39m, \u001b[38;5;124m\"\u001b[39m\u001b[38;5;124mBaseOffset\u001b[39m\u001b[38;5;124m\"\u001b[39m]\n\u001b[1;32m    127\u001b[0m Axes \u001b[38;5;241m=\u001b[39m Union[AnyArrayLike, List, \u001b[38;5;28mrange\u001b[39m]\n\u001b[1;32m    129\u001b[0m RandomState \u001b[38;5;241m=\u001b[39m Union[\n\u001b[1;32m    130\u001b[0m     \u001b[38;5;28mint\u001b[39m,\n\u001b[1;32m    131\u001b[0m     ArrayLike,\n\u001b[1;32m    132\u001b[0m     np\u001b[38;5;241m.\u001b[39mrandom\u001b[38;5;241m.\u001b[39mGenerator,\n\u001b[0;32m--> 133\u001b[0m     \u001b[43mnp\u001b[49m\u001b[38;5;241;43m.\u001b[39;49m\u001b[43mrandom\u001b[49m\u001b[38;5;241;43m.\u001b[39;49m\u001b[43mBitGenerator\u001b[49m,\n\u001b[1;32m    134\u001b[0m     np\u001b[38;5;241m.\u001b[39mrandom\u001b[38;5;241m.\u001b[39mRandomState,\n\u001b[1;32m    135\u001b[0m ]\n\u001b[1;32m    137\u001b[0m \u001b[38;5;66;03m# dtypes\u001b[39;00m\n\u001b[1;32m    138\u001b[0m NpDtype \u001b[38;5;241m=\u001b[39m Union[\u001b[38;5;28mstr\u001b[39m, np\u001b[38;5;241m.\u001b[39mdtype, type_t[Union[\u001b[38;5;28mstr\u001b[39m, \u001b[38;5;28mcomplex\u001b[39m, \u001b[38;5;28mbool\u001b[39m, \u001b[38;5;28mobject\u001b[39m]]]\n",
      "\u001b[0;31mAttributeError\u001b[0m: module 'numpy.random' has no attribute 'BitGenerator'"
     ]
    }
   ],
   "source": [
    "import pandas as pd\n",
    "import warnings\n",
    "warnings.filterwarnings('ignore')\n",
    "import os\n",
    "import glob\n",
    "from selenium import webdriver\n",
    "from webdriver_manager.chrome import ChromeDriverManager\n",
    "import time\n",
    "from io import StringIO\n",
    "import shutil"
   ]
  },
  {
   "cell_type": "code",
   "execution_count": null,
   "id": "caca1038",
   "metadata": {},
   "outputs": [],
   "source": [
    "def read_csv_folder(folder_path):\n",
    "    \"\"\"\n",
    "    Read CSV files from a folder and create a DataFrame for each file.\n",
    "\n",
    "    Parameters:\n",
    "        folder_path (str): The path to the folder containing the CSV files.\n",
    "\n",
    "    Returns:\n",
    "        dict: A dictionary containing the file name as key and a DataFrame containing the data from the CSV file as value.\n",
    "    \"\"\"\n",
    "    dataframes = {}\n",
    "    for filename in os.listdir(folder_path):\n",
    "        if filename.endswith('.csv'):\n",
    "            filepath = os.path.join(folder_path, filename)\n",
    "            df = pd.read_csv(filepath)\n",
    "            dataframes[filename] = df\n",
    "    return dataframes"
   ]
  },
  {
   "cell_type": "markdown",
   "id": "78335029",
   "metadata": {},
   "source": [
    "## 1.1 Unemployment\n",
    "- Portal datos Abiertos Gobierno España"
   ]
  },
  {
   "cell_type": "code",
   "execution_count": null,
   "id": "8e42573b",
   "metadata": {},
   "outputs": [],
   "source": [
    "PATH=ChromeDriverManager().install()"
   ]
  },
  {
   "cell_type": "code",
   "execution_count": null,
   "id": "863fa037",
   "metadata": {},
   "outputs": [],
   "source": [
    "def extract_selenium(url, texto, name):\n",
    "    driver = webdriver.Chrome(PATH)\n",
    "    driver.get(portal_gob)\n",
    "    try:\n",
    "        catalogo_input=driver.find_element_by_xpath('//*[@id=\"search_bar\"]')\n",
    "        catalogo_input.send_keys(texto)\n",
    "        catalogo=driver.find_element_by_xpath('//*[@id=\"search\"]')\n",
    "        catalogo.click()\n",
    "        time.sleep(2)\n",
    "        paro_pagina= driver.find_element_by_xpath('/html/body/div[3]/main/div/div/div/div[3]/div/section/div[1]/div/ul/li[1]/div/strong')\n",
    "        paro_pagina.click()\n",
    "        time.sleep(2)\n",
    "        paro_link= driver.find_element_by_xpath('/html/body/div[3]/main/div/div/div/div[3]/div/article/div/section[4]/ul/li[40]/div[5]/a')\n",
    "        paro_link.click()\n",
    "        time.sleep(2)\n",
    "        list_of_files = glob.glob('/downloads/*.csv') # * means all if need specific format then *.csv\n",
    "        latest_file = max(list_of_files, key=os.path.getctime)\n",
    "        destination = '/data'\n",
    "        new_file_name = 'Paro_municipios_2019.csv'\n",
    "        shutil.move(latest_file, destination)\n",
    "        os.rename(destination, new_file_name)\n",
    "        print('Moved to location done')\n",
    "    except:\n",
    "        print('Error')\n",
    "    return 'Completed with no errors'"
   ]
  },
  {
   "cell_type": "code",
   "execution_count": null,
   "id": "2ac2ee4b",
   "metadata": {},
   "outputs": [],
   "source": [
    "portal_gob = 'https://datos.gob.es/es/catalogo'\n",
    "texto = 'Paro Registrado por municipios'\n",
    "name = 'Paro_municipios_2019'"
   ]
  },
  {
   "cell_type": "code",
   "execution_count": null,
   "id": "bd9c9eeb",
   "metadata": {},
   "outputs": [],
   "source": [
    "extract_selenium(portal_gob,texto,name)"
   ]
  },
  {
   "cell_type": "markdown",
   "id": "2dbca922",
   "metadata": {},
   "source": [
    "----------------------------"
   ]
  },
  {
   "cell_type": "markdown",
   "id": "ca9241ea",
   "metadata": {},
   "source": [
    "## 1.2 Income Tax\n",
    "- Selenium"
   ]
  },
  {
   "cell_type": "code",
   "execution_count": null,
   "id": "caa54ba8",
   "metadata": {},
   "outputs": [],
   "source": [
    "url_scraping= \"https://www.agenciatributaria.es/AEAT/Contenidos_Comunes/La_Agencia_Tributaria/Estadisticas/Publicaciones/sites/irpfmunicipios/2019/jrubikf74b3dca9af01b51cabd6d5603e0e16daecd1a97c.html\""
   ]
  },
  {
   "cell_type": "code",
   "execution_count": null,
   "id": "f7fbd64d",
   "metadata": {},
   "outputs": [],
   "source": [
    "html=req.get(url_scraping).content\n",
    "\n",
    "soup=bs(html, 'html.parser')\n",
    "\n",
    "tabla=soup.find_all('table')  # find_all(tag)"
   ]
  },
  {
   "cell_type": "code",
   "execution_count": null,
   "id": "2d73a05f",
   "metadata": {},
   "outputs": [],
   "source": [
    "columnas=[e.text.strip() for e in tabla[0].find_all('th')]"
   ]
  },
  {
   "cell_type": "code",
   "execution_count": null,
   "id": "1305df4f",
   "metadata": {},
   "outputs": [],
   "source": [
    "#### Get namecols \"RENTA BRUTA MEDIA , RENTA DISPONIBLE MEDIA'\n",
    "cols = columnas[6:8]\n",
    "cols_ccaa = [item.replace('RENTA BRUTA MEDIA','renta_bruta_media').replace('RENTA DISPONIBLEMEDIA', 'renta_disponible_media') for item in cols]\n",
    "cols_ccaa.insert(0, \"ccaa\")\n",
    "cols_provincias=[item.replace('RENTA BRUTA MEDIA','renta_bruta_media').replace('RENTA DISPONIBLEMEDIA', 'renta_disponible_media') for item in cols]\n",
    "cols_provincias.insert(0, \"provincia\")"
   ]
  },
  {
   "cell_type": "code",
   "execution_count": null,
   "id": "faeffc89",
   "metadata": {},
   "outputs": [],
   "source": [
    "#### Get CCAA Data (except Pais Vasco and Navarra)\n",
    "#Get data for CCAA\n",
    "for table in soup.find_all(\"tr\", class_=\"depth_1\"):\n",
    "    ccaa.append(table.find_all('th')[0].text)\n",
    "    rb=table.find('td', {'headers': 'table01_c6'})\n",
    "    ccaa_renta_bruta_media.append(rb.text)\n",
    "    rm=table.find('td', {'headers': 'table01_c7'})\n",
    "    ccaa_renta_disponible_media.append(rm.text)"
   ]
  },
  {
   "cell_type": "code",
   "execution_count": null,
   "id": "4a90ccce",
   "metadata": {},
   "outputs": [],
   "source": [
    "#Erase characters\n",
    "ccaa=[el.replace(u'\\xa0','') for el in ccaa]\n",
    "ccaa=[el.strip() for el in ccaa]"
   ]
  },
  {
   "cell_type": "code",
   "execution_count": null,
   "id": "a45055d2",
   "metadata": {},
   "outputs": [],
   "source": [
    "### Get data from provinces\n",
    "provinces_table = soup.findAll(class_= 'depth_2') \n",
    "provincias_renta_bruta_media = []\n",
    "provincias_renta_disponible_media = []\n",
    "provincias=[]"
   ]
  },
  {
   "cell_type": "code",
   "execution_count": null,
   "id": "2c797414",
   "metadata": {},
   "outputs": [],
   "source": [
    "for table in soup.find_all('tr', class_='depth_2'):\n",
    "    provincias.append(table.find_all('th')[0].text)\n",
    "    provincias_renta_bruta_media.append(table.find('td', {'headers': 'table01_c6'}).text)\n",
    "    provincias_renta_disponible_media.append(table.find('td', {'headers': 'table01_c7'}).text)"
   ]
  },
  {
   "cell_type": "code",
   "execution_count": null,
   "id": "7b4f225d",
   "metadata": {},
   "outputs": [],
   "source": [
    "#Erase characters\n",
    "provincias=[el.replace(u'\\xa0','') for el in provincias]\n",
    "provincias=[el.strip() for el in provincias]"
   ]
  },
  {
   "cell_type": "code",
   "execution_count": null,
   "id": "f8c2bab7",
   "metadata": {},
   "outputs": [],
   "source": []
  },
  {
   "cell_type": "markdown",
   "id": "57731dce",
   "metadata": {},
   "source": [
    "#### Get Pais Vasco data"
   ]
  },
  {
   "cell_type": "code",
   "execution_count": null,
   "id": "7415172c",
   "metadata": {},
   "outputs": [],
   "source": [
    "url_PV = 'https://www.eustat.eus/elementos/ele0005700/renta-personal-media-de-la-c-a-de-euskadi-por-ambitos-territoriales-segun-tipo-de-renta-euros/tbl0005790_c.html'"
   ]
  },
  {
   "cell_type": "code",
   "execution_count": null,
   "id": "26b440d8",
   "metadata": {},
   "outputs": [],
   "source": [
    "html=req.get(url_PV).content\n",
    "\n",
    "soup=bs(html, 'html.parser')\n",
    "\n",
    "tabla_e=soup.find_all('table')"
   ]
  },
  {
   "cell_type": "code",
   "execution_count": null,
   "id": "ab6207cb",
   "metadata": {},
   "outputs": [],
   "source": [
    "for i,table in enumerate(soup.find_all(\"tr\", class_=\"Nivel3B\")):\n",
    "    if i==0:\n",
    "        ccaa.append(table.find('td').text)\n",
    "        ccaa_renta_bruta_media.append(table.find('td', {'class': 'td8Bold'}).text)\n",
    "        ccaa_renta_disponible_media.append(table.find_all('td', {'class': 'td8Bold'})[-1].text)\n",
    "\n",
    "    elif i==1:\n",
    "        provincias.append(table.find('td').text)\n",
    "        provincias_renta_bruta_media.append(table.find('td', {'class': 'td8'}).text)\n",
    "        provincias_renta_disponible_media.append(table.find_all('td', {'class': 'td8'})[-1].text)\n",
    "\n",
    "    elif i==2:\n",
    "        provincias.append(table.find('td').text)\n",
    "        provincias_renta_bruta_media.append(table.find('td', {'class': 'td8'}).text)\n",
    "        provincias_renta_disponible_media.append(table.find_all('td', {'class': 'td8'})[-1].text)\n",
    "    \n",
    "    elif i==3:\n",
    "        provincias.append(table.find('td').text)\n",
    "        provincias_renta_bruta_media.append(table.find('td', {'class': 'td8'}).text)\n",
    "        provincias_renta_disponible_media.append(table.find_all('td', {'class': 'td8'})[-1].text)"
   ]
  },
  {
   "cell_type": "code",
   "execution_count": null,
   "id": "5a14ff5c",
   "metadata": {},
   "outputs": [],
   "source": [
    "ccaa[-1]='Pais Vasco'\n",
    "ccaa=[el.replace(u'\\xa0','') for el in ccaa]\n",
    "ccaa=[el.strip() for el in ccaa]\n",
    "provincias=[el.replace(u'\\xa0','') for el in provincias]\n",
    "provincias=[el.strip() for el in provincias]"
   ]
  },
  {
   "cell_type": "markdown",
   "id": "fff4e6f9",
   "metadata": {},
   "source": [
    "#### Get Navarra data"
   ]
  },
  {
   "cell_type": "code",
   "execution_count": null,
   "id": "1c77fbfb",
   "metadata": {},
   "outputs": [],
   "source": [
    "ccaa.insert(20,'Navarra')\n",
    "ccaa_renta_disponible_media.append(13.394)\n",
    "ccaa_renta_bruta_media.append(16.300)"
   ]
  },
  {
   "cell_type": "code",
   "execution_count": null,
   "id": "8687985a",
   "metadata": {},
   "outputs": [],
   "source": [
    "provincias.insert(53,'Navarra')\n",
    "provincias_renta_bruta_media.append(13.394)\n",
    "provincias_renta_disponible_media.append(16.300)"
   ]
  },
  {
   "cell_type": "markdown",
   "id": "b41c68c1",
   "metadata": {},
   "source": [
    "## OUTPUT DATA"
   ]
  },
  {
   "cell_type": "code",
   "execution_count": null,
   "id": "67d4bdc5",
   "metadata": {},
   "outputs": [],
   "source": [
    "df_ccaa_renta = pd.DataFrame(zip(ccaa, ccaa_renta_bruta_media,ccaa_renta_disponible_media),\n",
    "               columns =[cols_ccaa])"
   ]
  },
  {
   "cell_type": "code",
   "execution_count": null,
   "id": "649700dd",
   "metadata": {},
   "outputs": [],
   "source": [
    "df_provincias_renta = pd.DataFrame(zip(provincias, provincias_renta_bruta_media,provincias_renta_disponible_media),\n",
    "               columns =[cols_provincias])"
   ]
  },
  {
   "cell_type": "code",
   "execution_count": null,
   "id": "ef088764",
   "metadata": {},
   "outputs": [],
   "source": [
    "df_ccaa_renta.to_csv('../data/ccaa_renta.csv', encoding='latin1', index=False)"
   ]
  },
  {
   "cell_type": "code",
   "execution_count": null,
   "id": "4735c9f6",
   "metadata": {},
   "outputs": [],
   "source": [
    "df_provincias_renta.to_csv('../data/provincias_renta.csv', encoding='latin1', index=False)"
   ]
  }
 ],
 "metadata": {
  "kernelspec": {
   "display_name": "Python 3 (ipykernel)",
   "language": "python",
   "name": "python3"
  },
  "language_info": {
   "codemirror_mode": {
    "name": "ipython",
    "version": 3
   },
   "file_extension": ".py",
   "mimetype": "text/x-python",
   "name": "python",
   "nbconvert_exporter": "python",
   "pygments_lexer": "ipython3",
   "version": "3.8.10"
  }
 },
 "nbformat": 4,
 "nbformat_minor": 5
}

{
 "cells": [
  {
   "cell_type": "markdown",
   "id": "a67e86ce",
   "metadata": {},
   "source": [
    "# 1. Extract"
   ]
  },
  {
   "cell_type": "code",
   "execution_count": 1,
   "id": "4f067a1a",
   "metadata": {},
   "outputs": [],
   "source": [
    "import pandas as pd\n",
    "import warnings\n",
    "warnings.filterwarnings('ignore')\n",
    "import os\n",
    "import glob\n",
    "import time\n",
    "from io import StringIO\n",
    "import shutil\n",
    "import requests as req\n",
    "from bs4 import BeautifulSoup as bs \n",
    "import unicodedata\n",
    "from functools import reduce"
   ]
  },
  {
   "cell_type": "markdown",
   "id": "78335029",
   "metadata": {},
   "source": [
    "## 1.1 Unemployment\n",
    "- Portal datos Abiertos Gobierno España\n",
    "     - Direct download"
   ]
  },
  {
   "cell_type": "code",
   "execution_count": 113,
   "id": "914f248e",
   "metadata": {},
   "outputs": [],
   "source": [
    "def read_csv_unemployment(folder_path, file_name):\n",
    "    \"\"\"\n",
    "    Reads a CSV file from a folder and creates a pandas DataFrame, corrects the unicode errors and overwrite the csv\n",
    "\n",
    "    Args:\n",
    "        folder_path (str): The path to the folder containing the CSV file.\n",
    "        file_name (str): The name of the CSV file.\n",
    "\n",
    "    \"\"\"\n",
    "    file_path = os.path.join(folder_path, file_name)\n",
    "    df = pd.read_csv(file_path ,encoding='utf-8')\n",
    "    \n",
    "    return df"
   ]
  },
  {
   "cell_type": "code",
   "execution_count": 115,
   "id": "7d5bc1d9",
   "metadata": {},
   "outputs": [],
   "source": [
    "df=read_csv_from_folder('/app/data','Paro_por_municipios_2019.csv')"
   ]
  },
  {
   "cell_type": "code",
   "execution_count": 116,
   "id": "9760ab4a",
   "metadata": {},
   "outputs": [
    {
     "data": {
      "text/html": [
       "<div>\n",
       "<style scoped>\n",
       "    .dataframe tbody tr th:only-of-type {\n",
       "        vertical-align: middle;\n",
       "    }\n",
       "\n",
       "    .dataframe tbody tr th {\n",
       "        vertical-align: top;\n",
       "    }\n",
       "\n",
       "    .dataframe thead th {\n",
       "        text-align: right;\n",
       "    }\n",
       "</style>\n",
       "<table border=\"1\" class=\"dataframe\">\n",
       "  <thead>\n",
       "    <tr style=\"text-align: right;\">\n",
       "      <th></th>\n",
       "      <th>Código mes</th>\n",
       "      <th>mes</th>\n",
       "      <th>Código de CA</th>\n",
       "      <th>Comunidad Autónoma</th>\n",
       "      <th>Codigo Provincia</th>\n",
       "      <th>Provincia</th>\n",
       "      <th>Codigo Municipio</th>\n",
       "      <th>Municipio</th>\n",
       "      <th>total Paro Registrado</th>\n",
       "      <th>Paro hombre edad &lt; 25</th>\n",
       "      <th>Paro hombre edad 25 -45</th>\n",
       "      <th>Paro hombre edad &gt;=45</th>\n",
       "      <th>Paro mujer edad &lt; 25</th>\n",
       "      <th>Paro mujer edad 25 -45</th>\n",
       "      <th>Paro mujer edad &gt;=45</th>\n",
       "      <th>Paro Agricultura</th>\n",
       "      <th>Paro Industria</th>\n",
       "      <th>Paro Construcción</th>\n",
       "      <th>Paro Servicios</th>\n",
       "      <th>Paro Sin empleo Anterior</th>\n",
       "    </tr>\n",
       "  </thead>\n",
       "  <tbody>\n",
       "    <tr>\n",
       "      <th>0</th>\n",
       "      <td>201901</td>\n",
       "      <td>Enero de 2019</td>\n",
       "      <td>1</td>\n",
       "      <td>Andalucía</td>\n",
       "      <td>4</td>\n",
       "      <td>Almería</td>\n",
       "      <td>4001</td>\n",
       "      <td>Abla</td>\n",
       "      <td>77</td>\n",
       "      <td>4</td>\n",
       "      <td>15</td>\n",
       "      <td>23</td>\n",
       "      <td>4</td>\n",
       "      <td>21</td>\n",
       "      <td>10</td>\n",
       "      <td>11</td>\n",
       "      <td>5</td>\n",
       "      <td>5</td>\n",
       "      <td>52</td>\n",
       "      <td>4</td>\n",
       "    </tr>\n",
       "    <tr>\n",
       "      <th>1</th>\n",
       "      <td>201901</td>\n",
       "      <td>Enero de 2019</td>\n",
       "      <td>1</td>\n",
       "      <td>Andalucía</td>\n",
       "      <td>4</td>\n",
       "      <td>Almería</td>\n",
       "      <td>4002</td>\n",
       "      <td>Abrucena</td>\n",
       "      <td>62</td>\n",
       "      <td>5</td>\n",
       "      <td>9</td>\n",
       "      <td>14</td>\n",
       "      <td>5</td>\n",
       "      <td>16</td>\n",
       "      <td>13</td>\n",
       "      <td>7</td>\n",
       "      <td>6</td>\n",
       "      <td>9</td>\n",
       "      <td>36</td>\n",
       "      <td>4</td>\n",
       "    </tr>\n",
       "    <tr>\n",
       "      <th>2</th>\n",
       "      <td>201901</td>\n",
       "      <td>Enero de 2019</td>\n",
       "      <td>1</td>\n",
       "      <td>Andalucía</td>\n",
       "      <td>4</td>\n",
       "      <td>Almería</td>\n",
       "      <td>4003</td>\n",
       "      <td>Adra</td>\n",
       "      <td>2088</td>\n",
       "      <td>103</td>\n",
       "      <td>385</td>\n",
       "      <td>449</td>\n",
       "      <td>97</td>\n",
       "      <td>569</td>\n",
       "      <td>485</td>\n",
       "      <td>386</td>\n",
       "      <td>73</td>\n",
       "      <td>250</td>\n",
       "      <td>1174</td>\n",
       "      <td>205</td>\n",
       "    </tr>\n",
       "    <tr>\n",
       "      <th>3</th>\n",
       "      <td>201901</td>\n",
       "      <td>Enero de 2019</td>\n",
       "      <td>1</td>\n",
       "      <td>Andalucía</td>\n",
       "      <td>4</td>\n",
       "      <td>Almería</td>\n",
       "      <td>4004</td>\n",
       "      <td>Albánchez</td>\n",
       "      <td>18</td>\n",
       "      <td>0</td>\n",
       "      <td>2</td>\n",
       "      <td>6</td>\n",
       "      <td>1</td>\n",
       "      <td>7</td>\n",
       "      <td>2</td>\n",
       "      <td>1</td>\n",
       "      <td>0</td>\n",
       "      <td>2</td>\n",
       "      <td>15</td>\n",
       "      <td>0</td>\n",
       "    </tr>\n",
       "    <tr>\n",
       "      <th>4</th>\n",
       "      <td>201901</td>\n",
       "      <td>Enero de 2019</td>\n",
       "      <td>1</td>\n",
       "      <td>Andalucía</td>\n",
       "      <td>4</td>\n",
       "      <td>Almería</td>\n",
       "      <td>4005</td>\n",
       "      <td>Alboloduy</td>\n",
       "      <td>35</td>\n",
       "      <td>1</td>\n",
       "      <td>8</td>\n",
       "      <td>12</td>\n",
       "      <td>1</td>\n",
       "      <td>8</td>\n",
       "      <td>5</td>\n",
       "      <td>4</td>\n",
       "      <td>4</td>\n",
       "      <td>7</td>\n",
       "      <td>19</td>\n",
       "      <td>1</td>\n",
       "    </tr>\n",
       "  </tbody>\n",
       "</table>\n",
       "</div>"
      ],
      "text/plain": [
       "   Código mes             mes  Código de CA Comunidad Autónoma  \\\n",
       "0       201901  Enero de 2019             1          Andalucía   \n",
       "1       201901  Enero de 2019             1          Andalucía   \n",
       "2       201901  Enero de 2019             1          Andalucía   \n",
       "3       201901  Enero de 2019             1          Andalucía   \n",
       "4       201901  Enero de 2019             1          Andalucía   \n",
       "\n",
       "   Codigo Provincia Provincia  Codigo Municipio  Municipio  \\\n",
       "0                 4   Almería              4001       Abla   \n",
       "1                 4   Almería              4002   Abrucena   \n",
       "2                 4   Almería              4003       Adra   \n",
       "3                 4   Almería              4004  Albánchez   \n",
       "4                 4   Almería              4005  Alboloduy   \n",
       "\n",
       "   total Paro Registrado  Paro hombre edad < 25  Paro hombre edad 25 -45   \\\n",
       "0                     77                      4                        15   \n",
       "1                     62                      5                         9   \n",
       "2                   2088                    103                       385   \n",
       "3                     18                      0                         2   \n",
       "4                     35                      1                         8   \n",
       "\n",
       "   Paro hombre edad >=45  Paro mujer edad < 25  Paro mujer edad 25 -45   \\\n",
       "0                     23                     4                       21   \n",
       "1                     14                     5                       16   \n",
       "2                    449                    97                      569   \n",
       "3                      6                     1                        7   \n",
       "4                     12                     1                        8   \n",
       "\n",
       "   Paro mujer edad >=45  Paro Agricultura  Paro Industria  Paro Construcción  \\\n",
       "0                    10                11               5                  5   \n",
       "1                    13                 7               6                  9   \n",
       "2                   485               386              73                250   \n",
       "3                     2                 1               0                  2   \n",
       "4                     5                 4               4                  7   \n",
       "\n",
       "   Paro Servicios  Paro Sin empleo Anterior  \n",
       "0              52                         4  \n",
       "1              36                         4  \n",
       "2            1174                       205  \n",
       "3              15                         0  \n",
       "4              19                         1  "
      ]
     },
     "execution_count": 116,
     "metadata": {},
     "output_type": "execute_result"
    }
   ],
   "source": [
    "df.head()"
   ]
  },
  {
   "cell_type": "markdown",
   "id": "2dbca922",
   "metadata": {},
   "source": [
    "----------------------------"
   ]
  },
  {
   "cell_type": "markdown",
   "id": "ca9241ea",
   "metadata": {},
   "source": [
    "## 1.2 Income Tax\n",
    "- BeaufitulSoup"
   ]
  },
  {
   "cell_type": "code",
   "execution_count": 25,
   "id": "caa54ba8",
   "metadata": {},
   "outputs": [],
   "source": [
    "url_scraping= \"https://www.agenciatributaria.es/AEAT/Contenidos_Comunes/La_Agencia_Tributaria/Estadisticas/Publicaciones/sites/irpfmunicipios/2019/jrubikf74b3dca9af01b51cabd6d5603e0e16daecd1a97c.html\""
   ]
  },
  {
   "cell_type": "code",
   "execution_count": 26,
   "id": "f7fbd64d",
   "metadata": {},
   "outputs": [],
   "source": [
    "html=req.get(url_scraping).content\n",
    "\n",
    "soup=bs(html, 'html.parser')\n",
    "\n",
    "tabla=soup.find_all('table')  # find_all(tag)"
   ]
  },
  {
   "cell_type": "code",
   "execution_count": 27,
   "id": "2d73a05f",
   "metadata": {},
   "outputs": [],
   "source": [
    "columnas=[e.text.strip() for e in tabla[0].find_all('th')]"
   ]
  },
  {
   "cell_type": "markdown",
   "id": "c2f63fea",
   "metadata": {},
   "source": [
    "###### Get namecols \"RENTA BRUTA MEDIA , RENTA DISPONIBLE MEDIA'"
   ]
  },
  {
   "cell_type": "code",
   "execution_count": 28,
   "id": "1305df4f",
   "metadata": {},
   "outputs": [],
   "source": [
    "cols = columnas[6:8]\n",
    "cols_ccaa = [item.replace('RENTA BRUTA MEDIA','renta_bruta_media').replace('RENTA DISPONIBLEMEDIA', 'renta_disponible_media') for item in cols]\n",
    "cols_ccaa.insert(0, \"ccaa\")\n",
    "cols_provincias=[item.replace('RENTA BRUTA MEDIA','renta_bruta_media').replace('RENTA DISPONIBLEMEDIA', 'renta_disponible_media') for item in cols]\n",
    "cols_provincias.insert(0, \"provincia\")"
   ]
  },
  {
   "cell_type": "markdown",
   "id": "3df1ce44",
   "metadata": {},
   "source": [
    "###### Get CCAA Data (except Pais Vasco and Navarra)"
   ]
  },
  {
   "cell_type": "code",
   "execution_count": 29,
   "id": "faeffc89",
   "metadata": {},
   "outputs": [],
   "source": [
    "ccaa_renta_bruta_media = []\n",
    "ccaa_renta_disponible_media = []\n",
    "ccaa=[]"
   ]
  },
  {
   "cell_type": "code",
   "execution_count": 30,
   "id": "8dd44b92",
   "metadata": {},
   "outputs": [],
   "source": [
    "for table in soup.find_all(\"tr\", class_=\"depth_1\"):\n",
    "    ccaa.append(table.find_all('th')[0].text)\n",
    "    rb=table.find('td', {'headers': 'table01_c6'})\n",
    "    ccaa_renta_bruta_media.append(rb.text)\n",
    "    rm=table.find('td', {'headers': 'table01_c7'})\n",
    "    ccaa_renta_disponible_media.append(rm.text)"
   ]
  },
  {
   "cell_type": "code",
   "execution_count": 31,
   "id": "4a90ccce",
   "metadata": {},
   "outputs": [],
   "source": [
    "#Erase characters\n",
    "ccaa=[el.replace(u'\\xa0','') for el in ccaa]\n",
    "ccaa=[el.strip() for el in ccaa]"
   ]
  },
  {
   "cell_type": "code",
   "execution_count": 32,
   "id": "a45055d2",
   "metadata": {},
   "outputs": [],
   "source": [
    "### Get data from provinces\n",
    "provinces_table = soup.findAll(class_= 'depth_2') \n",
    "provincias_renta_bruta_media = []\n",
    "provincias_renta_disponible_media = []\n",
    "provincias=[]"
   ]
  },
  {
   "cell_type": "code",
   "execution_count": 33,
   "id": "2c797414",
   "metadata": {},
   "outputs": [],
   "source": [
    "for table in soup.find_all('tr', class_='depth_2'):\n",
    "    provincias.append(table.find_all('th')[0].text)\n",
    "    provincias_renta_bruta_media.append(table.find('td', {'headers': 'table01_c6'}).text)\n",
    "    provincias_renta_disponible_media.append(table.find('td', {'headers': 'table01_c7'}).text)"
   ]
  },
  {
   "cell_type": "code",
   "execution_count": 34,
   "id": "7b4f225d",
   "metadata": {},
   "outputs": [],
   "source": [
    "#Erase characters\n",
    "provincias=[el.replace(u'\\xa0','') for el in provincias]\n",
    "provincias=[el.strip() for el in provincias]"
   ]
  },
  {
   "cell_type": "markdown",
   "id": "57731dce",
   "metadata": {},
   "source": [
    "#### Get Pais Vasco data"
   ]
  },
  {
   "cell_type": "code",
   "execution_count": 35,
   "id": "7415172c",
   "metadata": {},
   "outputs": [],
   "source": [
    "url_PV = 'https://www.eustat.eus/elementos/ele0005700/renta-personal-media-de-la-c-a-de-euskadi-por-ambitos-territoriales-segun-tipo-de-renta-euros/tbl0005790_c.html'"
   ]
  },
  {
   "cell_type": "code",
   "execution_count": 36,
   "id": "26b440d8",
   "metadata": {},
   "outputs": [],
   "source": [
    "html=req.get(url_PV).content\n",
    "\n",
    "soup=bs(html, 'html.parser')\n",
    "\n",
    "tabla_e=soup.find_all('table')"
   ]
  },
  {
   "cell_type": "code",
   "execution_count": 37,
   "id": "ab6207cb",
   "metadata": {},
   "outputs": [],
   "source": [
    "for i,table in enumerate(soup.find_all(\"tr\", class_=\"Nivel3B\")):\n",
    "    if i==0:\n",
    "        ccaa.append(table.find('td').text)\n",
    "        ccaa_renta_bruta_media.append(table.find('td', {'class': 'td8Bold'}).text)\n",
    "        ccaa_renta_disponible_media.append(table.find_all('td', {'class': 'td8Bold'})[-1].text)\n",
    "\n",
    "    elif i==1:\n",
    "        provincias.append(table.find('td').text)\n",
    "        provincias_renta_bruta_media.append(table.find('td', {'class': 'td8'}).text)\n",
    "        provincias_renta_disponible_media.append(table.find_all('td', {'class': 'td8'})[-1].text)\n",
    "\n",
    "    elif i==2:\n",
    "        provincias.append(table.find('td').text)\n",
    "        provincias_renta_bruta_media.append(table.find('td', {'class': 'td8'}).text)\n",
    "        provincias_renta_disponible_media.append(table.find_all('td', {'class': 'td8'})[-1].text)\n",
    "    \n",
    "    elif i==3:\n",
    "        provincias.append(table.find('td').text)\n",
    "        provincias_renta_bruta_media.append(table.find('td', {'class': 'td8'}).text)\n",
    "        provincias_renta_disponible_media.append(table.find_all('td', {'class': 'td8'})[-1].text)"
   ]
  },
  {
   "cell_type": "code",
   "execution_count": 38,
   "id": "5a14ff5c",
   "metadata": {},
   "outputs": [],
   "source": [
    "ccaa[-1]='Pais Vasco'\n",
    "ccaa=[el.replace(u'\\xa0','') for el in ccaa]\n",
    "ccaa=[el.strip() for el in ccaa]\n",
    "provincias=[el.replace(u'\\xa0','') for el in provincias]\n",
    "provincias=[el.strip() for el in provincias]"
   ]
  },
  {
   "cell_type": "markdown",
   "id": "fff4e6f9",
   "metadata": {},
   "source": [
    "#### Get Navarra data"
   ]
  },
  {
   "cell_type": "code",
   "execution_count": 39,
   "id": "1c77fbfb",
   "metadata": {},
   "outputs": [],
   "source": [
    "ccaa.insert(20,'Navarra')\n",
    "ccaa_renta_disponible_media.append(13.394)\n",
    "ccaa_renta_bruta_media.append(16.300)"
   ]
  },
  {
   "cell_type": "code",
   "execution_count": 40,
   "id": "8687985a",
   "metadata": {},
   "outputs": [],
   "source": [
    "provincias.insert(53,'Navarra')\n",
    "provincias_renta_bruta_media.append(13.394)\n",
    "provincias_renta_disponible_media.append(16.300)"
   ]
  },
  {
   "cell_type": "markdown",
   "id": "df65eefa",
   "metadata": {},
   "source": [
    "------------------------------------------------"
   ]
  },
  {
   "cell_type": "markdown",
   "id": "b41c68c1",
   "metadata": {},
   "source": [
    "## OUTPUT DATA"
   ]
  },
  {
   "cell_type": "code",
   "execution_count": 41,
   "id": "67d4bdc5",
   "metadata": {},
   "outputs": [],
   "source": [
    "df_ccaa_renta = pd.DataFrame(zip(ccaa, ccaa_renta_bruta_media,ccaa_renta_disponible_media),\n",
    "               columns =[cols_ccaa])"
   ]
  },
  {
   "cell_type": "code",
   "execution_count": 42,
   "id": "d0c54b5a",
   "metadata": {},
   "outputs": [
    {
     "data": {
      "text/html": [
       "<div>\n",
       "<style scoped>\n",
       "    .dataframe tbody tr th:only-of-type {\n",
       "        vertical-align: middle;\n",
       "    }\n",
       "\n",
       "    .dataframe tbody tr th {\n",
       "        vertical-align: top;\n",
       "    }\n",
       "\n",
       "    .dataframe thead tr th {\n",
       "        text-align: left;\n",
       "    }\n",
       "</style>\n",
       "<table border=\"1\" class=\"dataframe\">\n",
       "  <thead>\n",
       "    <tr>\n",
       "      <th></th>\n",
       "      <th>ccaa</th>\n",
       "      <th>renta_bruta_media</th>\n",
       "      <th>renta_disponible_media</th>\n",
       "    </tr>\n",
       "  </thead>\n",
       "  <tbody>\n",
       "    <tr>\n",
       "      <th>0</th>\n",
       "      <td>Andalucía</td>\n",
       "      <td>23.510</td>\n",
       "      <td>19.682</td>\n",
       "    </tr>\n",
       "    <tr>\n",
       "      <th>1</th>\n",
       "      <td>Aragón</td>\n",
       "      <td>27.014</td>\n",
       "      <td>22.200</td>\n",
       "    </tr>\n",
       "    <tr>\n",
       "      <th>2</th>\n",
       "      <td>Asturias, Principado de</td>\n",
       "      <td>27.448</td>\n",
       "      <td>22.674</td>\n",
       "    </tr>\n",
       "    <tr>\n",
       "      <th>3</th>\n",
       "      <td>Balears, Illes</td>\n",
       "      <td>29.736</td>\n",
       "      <td>24.182</td>\n",
       "    </tr>\n",
       "    <tr>\n",
       "      <th>4</th>\n",
       "      <td>Canarias</td>\n",
       "      <td>25.087</td>\n",
       "      <td>20.938</td>\n",
       "    </tr>\n",
       "  </tbody>\n",
       "</table>\n",
       "</div>"
      ],
      "text/plain": [
       "                      ccaa renta_bruta_media renta_disponible_media\n",
       "0                Andalucía            23.510                 19.682\n",
       "1                   Aragón            27.014                 22.200\n",
       "2  Asturias, Principado de            27.448                 22.674\n",
       "3           Balears, Illes            29.736                 24.182\n",
       "4                 Canarias            25.087                 20.938"
      ]
     },
     "execution_count": 42,
     "metadata": {},
     "output_type": "execute_result"
    }
   ],
   "source": [
    "df_ccaa_renta.head()"
   ]
  },
  {
   "cell_type": "code",
   "execution_count": 43,
   "id": "649700dd",
   "metadata": {},
   "outputs": [],
   "source": [
    "df_provincias_renta = pd.DataFrame(zip(provincias, provincias_renta_bruta_media,provincias_renta_disponible_media),\n",
    "               columns =[cols_provincias])"
   ]
  },
  {
   "cell_type": "code",
   "execution_count": 44,
   "id": "874ba8f5",
   "metadata": {},
   "outputs": [
    {
     "data": {
      "text/html": [
       "<div>\n",
       "<style scoped>\n",
       "    .dataframe tbody tr th:only-of-type {\n",
       "        vertical-align: middle;\n",
       "    }\n",
       "\n",
       "    .dataframe tbody tr th {\n",
       "        vertical-align: top;\n",
       "    }\n",
       "\n",
       "    .dataframe thead tr th {\n",
       "        text-align: left;\n",
       "    }\n",
       "</style>\n",
       "<table border=\"1\" class=\"dataframe\">\n",
       "  <thead>\n",
       "    <tr>\n",
       "      <th></th>\n",
       "      <th>provincia</th>\n",
       "      <th>renta_bruta_media</th>\n",
       "      <th>renta_disponible_media</th>\n",
       "    </tr>\n",
       "  </thead>\n",
       "  <tbody>\n",
       "    <tr>\n",
       "      <th>0</th>\n",
       "      <td>Almería</td>\n",
       "      <td>21.399</td>\n",
       "      <td>18.062</td>\n",
       "    </tr>\n",
       "    <tr>\n",
       "      <th>1</th>\n",
       "      <td>Cádiz</td>\n",
       "      <td>24.497</td>\n",
       "      <td>20.538</td>\n",
       "    </tr>\n",
       "    <tr>\n",
       "      <th>2</th>\n",
       "      <td>Córdoba</td>\n",
       "      <td>21.879</td>\n",
       "      <td>18.432</td>\n",
       "    </tr>\n",
       "    <tr>\n",
       "      <th>3</th>\n",
       "      <td>Granada</td>\n",
       "      <td>23.515</td>\n",
       "      <td>19.737</td>\n",
       "    </tr>\n",
       "    <tr>\n",
       "      <th>4</th>\n",
       "      <td>Huelva</td>\n",
       "      <td>20.972</td>\n",
       "      <td>17.717</td>\n",
       "    </tr>\n",
       "  </tbody>\n",
       "</table>\n",
       "</div>"
      ],
      "text/plain": [
       "  provincia renta_bruta_media renta_disponible_media\n",
       "0   Almería            21.399                 18.062\n",
       "1     Cádiz            24.497                 20.538\n",
       "2   Córdoba            21.879                 18.432\n",
       "3   Granada            23.515                 19.737\n",
       "4    Huelva            20.972                 17.717"
      ]
     },
     "execution_count": 44,
     "metadata": {},
     "output_type": "execute_result"
    }
   ],
   "source": [
    "df_provincias_renta.head()"
   ]
  },
  {
   "cell_type": "code",
   "execution_count": 49,
   "id": "fd834d36",
   "metadata": {},
   "outputs": [],
   "source": [
    "def export_to_csv(df, file_path):\n",
    "    \n",
    "    df.to_csv(file_path, encoding='latin-1', index=False, sep=';')\n",
    "    \n",
    "    return print(f\"File saved to {file_path}\")"
   ]
  },
  {
   "cell_type": "code",
   "execution_count": 50,
   "id": "ef088764",
   "metadata": {},
   "outputs": [
    {
     "name": "stdout",
     "output_type": "stream",
     "text": [
      "File saved to /app/data/csv/ccaa_renta.csv\n"
     ]
    }
   ],
   "source": [
    "export_to_csv(df_ccaa_renta,'/app/data/csv/ccaa_renta.csv')"
   ]
  },
  {
   "cell_type": "code",
   "execution_count": 51,
   "id": "4735c9f6",
   "metadata": {},
   "outputs": [
    {
     "name": "stdout",
     "output_type": "stream",
     "text": [
      "File saved to /app/data/csv/provincias_renta.csv\n"
     ]
    }
   ],
   "source": [
    "export_to_csv(df_provincias_renta,'/app/data/csv/provincias_renta.csv')"
   ]
  }
 ],
 "metadata": {
  "kernelspec": {
   "display_name": "Python 3 (ipykernel)",
   "language": "python",
   "name": "python3"
  },
  "language_info": {
   "codemirror_mode": {
    "name": "ipython",
    "version": 3
   },
   "file_extension": ".py",
   "mimetype": "text/x-python",
   "name": "python",
   "nbconvert_exporter": "python",
   "pygments_lexer": "ipython3",
   "version": "3.10.9"
  }
 },
 "nbformat": 4,
 "nbformat_minor": 5
}

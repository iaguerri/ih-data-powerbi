{
 "cells": [
  {
   "cell_type": "markdown",
   "id": "907563e0",
   "metadata": {},
   "source": [
    "# ETL"
   ]
  },
  {
   "cell_type": "markdown",
   "id": "ab5ffe7e",
   "metadata": {},
   "source": [
    "## 2. Transform\n"
   ]
  },
  {
   "cell_type": "code",
   "execution_count": null,
   "id": "5a7dbe68",
   "metadata": {},
   "outputs": [],
   "source": [
    "import pandas as pd\n",
    "import os\n",
    "import re\n",
    "import requests as req\n",
    "import unicodedata\n",
    "import glob\n",
    "import time\n",
    "import shutil\n",
    "from io import StringIO\n",
    "from selenium import webdriver\n",
    "from webdriver_manager.chrome import ChromeDriverManager\n",
    "from bs4 import BeautifulSoup as bs \n",
    "from functools import reduce\n",
    "warnings.filterwarnings('ignore')"
   ]
  },
  {
   "cell_type": "markdown",
   "id": "66dc9b61",
   "metadata": {},
   "source": [
    "## Data\n",
    "1. Unemployment Data\n",
    "2. Income Tax"
   ]
  },
  {
   "cell_type": "markdown",
   "id": "9c5d139d",
   "metadata": {},
   "source": [
    "### Unemployment Data\n",
    "- Selenium "
   ]
  },
  {
   "cell_type": "code",
   "execution_count": null,
   "id": "333d96fc",
   "metadata": {},
   "outputs": [],
   "source": [
    "def csv_unemployment(name):\n",
    "    ## buscar funcion que lea path y cree csv\n",
    "    path = '../data/Paro_por_municipios_2019_csv.csv'\n",
    "    df = pd.read_csv(encoding='latin1', sep=';', low_memory=False)\n",
    "    paro = df[df[\"mes\"]=='Diciembre de 2019']\n",
    "    df_prov = df.groupby(['Provincia', 'Comunidad Autónoma','Código de CA','Codigo Provincia'], as_index=False)[['total Paro Registrado', 'Paro hombre edad < 25','Paro hombre edad 25 -45 ','Paro hombre edad >=45', 'Paro mujer edad < 25', 'Paro mujer edad 25 -45 ','Paro mujer edad >=45', 'Paro Agricultura', 'Paro Industria','Paro Construcción', 'Paro Servicios', 'Paro Sin empleo Anterior']].agg('sum')\n",
    "    df_prov.to_csv(name, encoding='latin1', index=False)\n",
    "    return df_prov"
   ]
  },
  {
   "cell_type": "code",
   "execution_count": null,
   "id": "db6e0312",
   "metadata": {},
   "outputs": [],
   "source": [
    "paro = csv_unemployment('paro_provincias')"
   ]
  },
  {
   "cell_type": "code",
   "execution_count": null,
   "id": "00405cd0",
   "metadata": {},
   "outputs": [],
   "source": []
  },
  {
   "cell_type": "code",
   "execution_count": null,
   "id": "71facf94",
   "metadata": {},
   "outputs": [],
   "source": []
  },
  {
   "cell_type": "code",
   "execution_count": null,
   "id": "9bb3b46c",
   "metadata": {},
   "outputs": [],
   "source": []
  },
  {
   "cell_type": "code",
   "execution_count": null,
   "id": "33753d8e",
   "metadata": {},
   "outputs": [],
   "source": []
  },
  {
   "cell_type": "code",
   "execution_count": null,
   "id": "e1b6d421",
   "metadata": {},
   "outputs": [],
   "source": []
  },
  {
   "cell_type": "code",
   "execution_count": null,
   "id": "eadbae20",
   "metadata": {},
   "outputs": [],
   "source": []
  },
  {
   "cell_type": "code",
   "execution_count": null,
   "id": "cae4e82e",
   "metadata": {},
   "outputs": [],
   "source": []
  },
  {
   "cell_type": "code",
   "execution_count": null,
   "id": "4ea41621",
   "metadata": {},
   "outputs": [],
   "source": []
  },
  {
   "cell_type": "code",
   "execution_count": null,
   "id": "44ad67a0",
   "metadata": {},
   "outputs": [],
   "source": []
  },
  {
   "cell_type": "code",
   "execution_count": null,
   "id": "7880fb5c",
   "metadata": {},
   "outputs": [],
   "source": []
  }
 ],
 "metadata": {
  "kernelspec": {
   "display_name": "Python 3 (ipykernel)",
   "language": "python",
   "name": "python3"
  },
  "language_info": {
   "codemirror_mode": {
    "name": "ipython",
    "version": 3
   },
   "file_extension": ".py",
   "mimetype": "text/x-python",
   "name": "python",
   "nbconvert_exporter": "python",
   "pygments_lexer": "ipython3",
   "version": "3.8.10"
  }
 },
 "nbformat": 4,
 "nbformat_minor": 5
}

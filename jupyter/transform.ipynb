{
 "cells": [
  {
   "cell_type": "markdown",
   "id": "907563e0",
   "metadata": {},
   "source": [
    "# ETL"
   ]
  },
  {
   "cell_type": "markdown",
   "id": "ab5ffe7e",
   "metadata": {},
   "source": [
    "## 2. Transform\n"
   ]
  },
  {
   "cell_type": "code",
   "execution_count": 1,
   "id": "5a7dbe68",
   "metadata": {},
   "outputs": [],
   "source": [
    "import pandas as pd\n",
    "import os\n",
    "import re\n",
    "import requests as req\n",
    "import unicodedata\n",
    "import glob\n",
    "import time\n",
    "import warnings\n",
    "warnings.filterwarnings('ignore')"
   ]
  },
  {
   "cell_type": "markdown",
   "id": "66dc9b61",
   "metadata": {},
   "source": [
    "## Data\n",
    "1. Unemployment Data\n",
    "2. Income Tax\n",
    "3. Elections results"
   ]
  },
  {
   "cell_type": "code",
   "execution_count": 52,
   "id": "4dd9a1b7",
   "metadata": {},
   "outputs": [],
   "source": [
    "def read_csv_folder(folder_path):\n",
    "    \"\"\"\n",
    "    Read CSV files from a folder and create a DataFrame for each file.\n",
    "\n",
    "    Parameters:\n",
    "        folder_path (str): The path to the folder containing the CSV files.\n",
    "\n",
    "    Returns:\n",
    "        dict: A dictionary containing the file name as key and a DataFrame containing the data from the CSV file as value.\n",
    "    \"\"\"\n",
    "    dataframes = {}\n",
    "    for filename in os.listdir(folder_path):\n",
    "        if filename.endswith('.csv'):\n",
    "            print(filename)\n",
    "            filepath = os.path.join(folder_path, filename)\n",
    "            df = pd.read_csv(filepath, encoding='latin1', sep=';',on_bad_lines='skip')\n",
    "            nombre = filename[:-4]\n",
    "            dataframes[nombre] = df\n",
    "    return dataframes"
   ]
  },
  {
   "cell_type": "code",
   "execution_count": 53,
   "id": "871a4c8f",
   "metadata": {},
   "outputs": [
    {
     "name": "stdout",
     "output_type": "stream",
     "text": [
      "df_provincias.csv\n",
      "df_mesas.csv\n",
      "provincias_renta.csv\n",
      "df_municipios.csv\n",
      "Paro_por_municipios_2019.csv\n",
      "ccaa_renta.csv\n"
     ]
    }
   ],
   "source": [
    "dict_df = read_csv_folder('/app/data/')"
   ]
  },
  {
   "cell_type": "code",
   "execution_count": 54,
   "id": "788d1933",
   "metadata": {},
   "outputs": [
    {
     "name": "stdout",
     "output_type": "stream",
     "text": [
      "df_provincias\n",
      "df_mesas\n",
      "provincias_renta\n",
      "df_municipios\n",
      "Paro_por_municipios_2019\n",
      "ccaa_renta\n"
     ]
    }
   ],
   "source": [
    "for key, value in dict_df.items():\n",
    "    print(key)\n",
    "    exec(\"{} = pd.DataFrame(value)\".format(key))"
   ]
  },
  {
   "cell_type": "markdown",
   "id": "7358ad27",
   "metadata": {},
   "source": [
    "# EDA\n"
   ]
  },
  {
   "cell_type": "code",
   "execution_count": null,
   "id": "333d96fc",
   "metadata": {},
   "outputs": [],
   "source": [
    "def clean_unemployment_data(df):\n",
    "    # Get only data from October 2019 (prior elections)\n",
    "    paro = df[df[\"mes\"]=='Diciembre de 2019']\n",
    "    df_prov = df.groupby(['Provincia', 'Comunidad Autónoma','Código de CA','Codigo Provincia'], as_index=False)[['total Paro Registrado', 'Paro hombre edad < 25','Paro hombre edad 25 -45 ','Paro hombre edad >=45', 'Paro mujer edad < 25', 'Paro mujer edad 25 -45 ','Paro mujer edad >=45', 'Paro Agricultura', 'Paro Industria','Paro Construcción', 'Paro Servicios', 'Paro Sin empleo Anterior']].agg('sum')\n",
    "    df_prov.to_csv(name, encoding='latin1', index=False)\n",
    "    return df_prov"
   ]
  },
  {
   "cell_type": "code",
   "execution_count": null,
   "id": "80c4b0bc",
   "metadata": {},
   "outputs": [],
   "source": []
  },
  {
   "cell_type": "code",
   "execution_count": null,
   "id": "db6e0312",
   "metadata": {},
   "outputs": [],
   "source": [
    "paro = csv_unemployment('paro_provincias')"
   ]
  },
  {
   "cell_type": "code",
   "execution_count": null,
   "id": "00405cd0",
   "metadata": {},
   "outputs": [],
   "source": []
  },
  {
   "cell_type": "code",
   "execution_count": null,
   "id": "71facf94",
   "metadata": {},
   "outputs": [],
   "source": []
  },
  {
   "cell_type": "code",
   "execution_count": null,
   "id": "9bb3b46c",
   "metadata": {},
   "outputs": [],
   "source": []
  },
  {
   "cell_type": "code",
   "execution_count": null,
   "id": "33753d8e",
   "metadata": {},
   "outputs": [],
   "source": []
  },
  {
   "cell_type": "code",
   "execution_count": null,
   "id": "e1b6d421",
   "metadata": {},
   "outputs": [],
   "source": []
  },
  {
   "cell_type": "code",
   "execution_count": null,
   "id": "eadbae20",
   "metadata": {},
   "outputs": [],
   "source": []
  },
  {
   "cell_type": "code",
   "execution_count": null,
   "id": "cae4e82e",
   "metadata": {},
   "outputs": [],
   "source": []
  },
  {
   "cell_type": "code",
   "execution_count": null,
   "id": "4ea41621",
   "metadata": {},
   "outputs": [],
   "source": []
  },
  {
   "cell_type": "code",
   "execution_count": null,
   "id": "44ad67a0",
   "metadata": {},
   "outputs": [],
   "source": []
  },
  {
   "cell_type": "code",
   "execution_count": null,
   "id": "7880fb5c",
   "metadata": {},
   "outputs": [],
   "source": []
  }
 ],
 "metadata": {
  "kernelspec": {
   "display_name": "Python 3 (ipykernel)",
   "language": "python",
   "name": "python3"
  },
  "language_info": {
   "codemirror_mode": {
    "name": "ipython",
    "version": 3
   },
   "file_extension": ".py",
   "mimetype": "text/x-python",
   "name": "python",
   "nbconvert_exporter": "python",
   "pygments_lexer": "ipython3",
   "version": "3.10.9"
  }
 },
 "nbformat": 4,
 "nbformat_minor": 5
}

{
 "cells": [
  {
   "cell_type": "markdown",
   "id": "1b369556",
   "metadata": {},
   "source": [
    "# ETL"
   ]
  },
  {
   "cell_type": "markdown",
   "id": "bcfb960e",
   "metadata": {},
   "source": [
    "## Load"
   ]
  },
  {
   "cell_type": "markdown",
   "id": "82e4252c",
   "metadata": {},
   "source": [
    "How?\n",
    "- Dataframes will be loaded from here\n",
    "- Geospatial layers -> QGIS"
   ]
  },
  {
   "cell_type": "code",
   "execution_count": 6,
   "id": "fec97043",
   "metadata": {},
   "outputs": [],
   "source": [
    "import pandas as pd\n",
    "from sqlalchemy import create_engine"
   ]
  },
  {
   "cell_type": "code",
   "execution_count": 2,
   "id": "3811b46e",
   "metadata": {},
   "outputs": [],
   "source": [
    "def df_to_postgresql(df, table_name, config_file):\n",
    "    # Load the configuration data from the config file\n",
    "    with open(config_file, 'r') as f:\n",
    "        config_data = json.load(f)\n",
    "\n",
    "    # Create a connection string to connect to the database\n",
    "    connection_string = f\"postgresql://{config_data['username']}:{config_data['password']}@{config_data['host']}:{config_data['port']}/{config_data['database']}\"\n",
    "    \n",
    "    # Create a SQLAlchemy engine using the connection string\n",
    "    engine = create_engine(connection_string)\n",
    "    \n",
    "    # Use the to_sql() function to load the dataframe into the database\n",
    "    df.to_sql(table_name, engine, if_exists='replace', index=False)"
   ]
  },
  {
   "cell_type": "code",
   "execution_count": null,
   "id": "ec330f3c",
   "metadata": {},
   "outputs": [],
   "source": [
    "df_to_postgresql(my_data, 'my_table', 'config.json')"
   ]
  }
 ],
 "metadata": {
  "kernelspec": {
   "display_name": "Python 3 (ipykernel)",
   "language": "python",
   "name": "python3"
  },
  "language_info": {
   "codemirror_mode": {
    "name": "ipython",
    "version": 3
   },
   "file_extension": ".py",
   "mimetype": "text/x-python",
   "name": "python",
   "nbconvert_exporter": "python",
   "pygments_lexer": "ipython3",
   "version": "3.10.9"
  }
 },
 "nbformat": 4,
 "nbformat_minor": 5
}

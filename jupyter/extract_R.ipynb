{
 "cells": [
  {
   "cell_type": "markdown",
   "id": "4eff779a",
   "metadata": {},
   "source": [
    "# 🇪🇸 2019 Elections"
   ]
  },
  {
   "cell_type": "markdown",
   "id": "1424ef7e",
   "metadata": {},
   "source": [
    "- libreria OpenSource <a href=\"https://ropenspain.github.io/infoelectoral/index.html\" target=\"_blank\">infoelectoral</a>"
   ]
  },
  {
   "cell_type": "markdown",
   "id": "9c36bbb3",
   "metadata": {},
   "source": [
    "## Data downloaded\n",
    "1. electoral results data at the polling station level $\\rightarrow$ **mesas**\n",
    "2. electoral results data at the municipality level $\\rightarrow$ **municipios**\n",
    "3. electoral results data of the constituency level $\\rightarrow$ **mesas**"
   ]
  },
  {
   "cell_type": "code",
   "execution_count": 4,
   "id": "395a85d3",
   "metadata": {},
   "outputs": [
    {
     "name": "stderr",
     "output_type": "stream",
     "text": [
      "Skipping install of 'infoelectoral' from a github remote, the SHA1 (7d8d682e) has not changed since last install.\n",
      "  Use `force = TRUE` to force installation\n",
      "\n"
     ]
    }
   ],
   "source": [
    "devtools::install_github(\"ropenspain/infoelectoral\")"
   ]
  },
  {
   "cell_type": "code",
   "execution_count": 2,
   "id": "4467a0d9",
   "metadata": {},
   "outputs": [],
   "source": [
    "library(infoelectoral)"
   ]
  },
  {
   "cell_type": "code",
   "execution_count": 6,
   "id": "0f24c315",
   "metadata": {},
   "outputs": [],
   "source": [
    "df_municipios <- municipios(\"congreso\",2019,11, FALSE)"
   ]
  },
  {
   "cell_type": "code",
   "execution_count": 3,
   "id": "0fb512e1",
   "metadata": {},
   "outputs": [],
   "source": [
    "df_provincias <- provincias(\"congreso\",2019,11)"
   ]
  },
  {
   "cell_type": "code",
   "execution_count": 4,
   "id": "97b1393e",
   "metadata": {},
   "outputs": [
    {
     "data": {
      "text/html": [
       "<style>\n",
       ".list-inline {list-style: none; margin:0; padding: 0}\n",
       ".list-inline>li {display: inline-block}\n",
       ".list-inline>li:not(:last-child)::after {content: \"\\00b7\"; padding: 0 .5ex}\n",
       "</style>\n",
       "<ol class=list-inline><li>'Almería'</li><li>'Cádiz'</li><li>'Córdoba'</li><li>'Granada'</li><li>'Huelva'</li><li>'Jaén'</li><li>'Málaga'</li><li>'Sevilla'</li><li>'Andalucía'</li><li>'Huesca'</li><li>'Teruel'</li><li>'Zaragoza'</li><li>'Aragón'</li><li>'Asturias'</li><li>'Principado de Asturias'</li><li>'Illes Balears'</li><li>'Las Palmas'</li><li>'Santa Cruz de Tenerife'</li><li>'Canarias'</li><li>'Cantabria'</li><li>'Albacete'</li><li>'Ciudad Real'</li><li>'Cuenca'</li><li>'Guadalajara'</li><li>'Toledo'</li><li>'Castilla - La Mancha'</li><li>'Ávila'</li><li>'Burgos'</li><li>'León'</li><li>'Palencia'</li><li>'Salamanca'</li><li>'Segovia'</li><li>'Soria'</li><li>'Valladolid'</li><li>'Zamora'</li><li>'Castilla y León'</li><li>'Barcelona'</li><li>'Girona'</li><li>'Lleida'</li><li>'Tarragona'</li><li>'Cataluña'</li><li>'Badajoz'</li><li>'Cáceres'</li><li>'Extremadura'</li><li>'A Coruña'</li><li>'Lugo'</li><li>'Ourense'</li><li>'Pontevedra'</li><li>'Galicia'</li><li>'Madrid'</li><li>'Comunidad de Madrid'</li><li>'Navarra'</li><li>'Comunidad Foral de Navarra'</li><li>'Araba / Álava'</li><li>'Gipuzkoa'</li><li>'Bizkaia'</li><li>'País Vasco'</li><li>'Murcia'</li><li>'Región de Murcia'</li><li>'La Rioja'</li><li>'Alicante / Alacant'</li><li>'Castellón / Castelló'</li><li>'Valencia / València'</li><li>'Comunitat Valenciana'</li><li>'Ceuta'</li><li>'Ciudad de Ceuta'</li><li>'Melilla'</li><li>'Ciudad de Melilla'</li><li>'Total nacional'</li></ol>\n"
      ],
      "text/latex": [
       "\\begin{enumerate*}\n",
       "\\item 'Almería'\n",
       "\\item 'Cádiz'\n",
       "\\item 'Córdoba'\n",
       "\\item 'Granada'\n",
       "\\item 'Huelva'\n",
       "\\item 'Jaén'\n",
       "\\item 'Málaga'\n",
       "\\item 'Sevilla'\n",
       "\\item 'Andalucía'\n",
       "\\item 'Huesca'\n",
       "\\item 'Teruel'\n",
       "\\item 'Zaragoza'\n",
       "\\item 'Aragón'\n",
       "\\item 'Asturias'\n",
       "\\item 'Principado de Asturias'\n",
       "\\item 'Illes Balears'\n",
       "\\item 'Las Palmas'\n",
       "\\item 'Santa Cruz de Tenerife'\n",
       "\\item 'Canarias'\n",
       "\\item 'Cantabria'\n",
       "\\item 'Albacete'\n",
       "\\item 'Ciudad Real'\n",
       "\\item 'Cuenca'\n",
       "\\item 'Guadalajara'\n",
       "\\item 'Toledo'\n",
       "\\item 'Castilla - La Mancha'\n",
       "\\item 'Ávila'\n",
       "\\item 'Burgos'\n",
       "\\item 'León'\n",
       "\\item 'Palencia'\n",
       "\\item 'Salamanca'\n",
       "\\item 'Segovia'\n",
       "\\item 'Soria'\n",
       "\\item 'Valladolid'\n",
       "\\item 'Zamora'\n",
       "\\item 'Castilla y León'\n",
       "\\item 'Barcelona'\n",
       "\\item 'Girona'\n",
       "\\item 'Lleida'\n",
       "\\item 'Tarragona'\n",
       "\\item 'Cataluña'\n",
       "\\item 'Badajoz'\n",
       "\\item 'Cáceres'\n",
       "\\item 'Extremadura'\n",
       "\\item 'A Coruña'\n",
       "\\item 'Lugo'\n",
       "\\item 'Ourense'\n",
       "\\item 'Pontevedra'\n",
       "\\item 'Galicia'\n",
       "\\item 'Madrid'\n",
       "\\item 'Comunidad de Madrid'\n",
       "\\item 'Navarra'\n",
       "\\item 'Comunidad Foral de Navarra'\n",
       "\\item 'Araba / Álava'\n",
       "\\item 'Gipuzkoa'\n",
       "\\item 'Bizkaia'\n",
       "\\item 'País Vasco'\n",
       "\\item 'Murcia'\n",
       "\\item 'Región de Murcia'\n",
       "\\item 'La Rioja'\n",
       "\\item 'Alicante / Alacant'\n",
       "\\item 'Castellón / Castelló'\n",
       "\\item 'Valencia / València'\n",
       "\\item 'Comunitat Valenciana'\n",
       "\\item 'Ceuta'\n",
       "\\item 'Ciudad de Ceuta'\n",
       "\\item 'Melilla'\n",
       "\\item 'Ciudad de Melilla'\n",
       "\\item 'Total nacional'\n",
       "\\end{enumerate*}\n"
      ],
      "text/markdown": [
       "1. 'Almería'\n",
       "2. 'Cádiz'\n",
       "3. 'Córdoba'\n",
       "4. 'Granada'\n",
       "5. 'Huelva'\n",
       "6. 'Jaén'\n",
       "7. 'Málaga'\n",
       "8. 'Sevilla'\n",
       "9. 'Andalucía'\n",
       "10. 'Huesca'\n",
       "11. 'Teruel'\n",
       "12. 'Zaragoza'\n",
       "13. 'Aragón'\n",
       "14. 'Asturias'\n",
       "15. 'Principado de Asturias'\n",
       "16. 'Illes Balears'\n",
       "17. 'Las Palmas'\n",
       "18. 'Santa Cruz de Tenerife'\n",
       "19. 'Canarias'\n",
       "20. 'Cantabria'\n",
       "21. 'Albacete'\n",
       "22. 'Ciudad Real'\n",
       "23. 'Cuenca'\n",
       "24. 'Guadalajara'\n",
       "25. 'Toledo'\n",
       "26. 'Castilla - La Mancha'\n",
       "27. 'Ávila'\n",
       "28. 'Burgos'\n",
       "29. 'León'\n",
       "30. 'Palencia'\n",
       "31. 'Salamanca'\n",
       "32. 'Segovia'\n",
       "33. 'Soria'\n",
       "34. 'Valladolid'\n",
       "35. 'Zamora'\n",
       "36. 'Castilla y León'\n",
       "37. 'Barcelona'\n",
       "38. 'Girona'\n",
       "39. 'Lleida'\n",
       "40. 'Tarragona'\n",
       "41. 'Cataluña'\n",
       "42. 'Badajoz'\n",
       "43. 'Cáceres'\n",
       "44. 'Extremadura'\n",
       "45. 'A Coruña'\n",
       "46. 'Lugo'\n",
       "47. 'Ourense'\n",
       "48. 'Pontevedra'\n",
       "49. 'Galicia'\n",
       "50. 'Madrid'\n",
       "51. 'Comunidad de Madrid'\n",
       "52. 'Navarra'\n",
       "53. 'Comunidad Foral de Navarra'\n",
       "54. 'Araba / Álava'\n",
       "55. 'Gipuzkoa'\n",
       "56. 'Bizkaia'\n",
       "57. 'País Vasco'\n",
       "58. 'Murcia'\n",
       "59. 'Región de Murcia'\n",
       "60. 'La Rioja'\n",
       "61. 'Alicante / Alacant'\n",
       "62. 'Castellón / Castelló'\n",
       "63. 'Valencia / València'\n",
       "64. 'Comunitat Valenciana'\n",
       "65. 'Ceuta'\n",
       "66. 'Ciudad de Ceuta'\n",
       "67. 'Melilla'\n",
       "68. 'Ciudad de Melilla'\n",
       "69. 'Total nacional'\n",
       "\n",
       "\n"
      ],
      "text/plain": [
       " [1] \"Almería\"                    \"Cádiz\"                     \n",
       " [3] \"Córdoba\"                    \"Granada\"                   \n",
       " [5] \"Huelva\"                     \"Jaén\"                      \n",
       " [7] \"Málaga\"                     \"Sevilla\"                   \n",
       " [9] \"Andalucía\"                  \"Huesca\"                    \n",
       "[11] \"Teruel\"                     \"Zaragoza\"                  \n",
       "[13] \"Aragón\"                     \"Asturias\"                  \n",
       "[15] \"Principado de Asturias\"     \"Illes Balears\"             \n",
       "[17] \"Las Palmas\"                 \"Santa Cruz de Tenerife\"    \n",
       "[19] \"Canarias\"                   \"Cantabria\"                 \n",
       "[21] \"Albacete\"                   \"Ciudad Real\"               \n",
       "[23] \"Cuenca\"                     \"Guadalajara\"               \n",
       "[25] \"Toledo\"                     \"Castilla - La Mancha\"      \n",
       "[27] \"Ávila\"                      \"Burgos\"                    \n",
       "[29] \"León\"                       \"Palencia\"                  \n",
       "[31] \"Salamanca\"                  \"Segovia\"                   \n",
       "[33] \"Soria\"                      \"Valladolid\"                \n",
       "[35] \"Zamora\"                     \"Castilla y León\"           \n",
       "[37] \"Barcelona\"                  \"Girona\"                    \n",
       "[39] \"Lleida\"                     \"Tarragona\"                 \n",
       "[41] \"Cataluña\"                   \"Badajoz\"                   \n",
       "[43] \"Cáceres\"                    \"Extremadura\"               \n",
       "[45] \"A Coruña\"                   \"Lugo\"                      \n",
       "[47] \"Ourense\"                    \"Pontevedra\"                \n",
       "[49] \"Galicia\"                    \"Madrid\"                    \n",
       "[51] \"Comunidad de Madrid\"        \"Navarra\"                   \n",
       "[53] \"Comunidad Foral de Navarra\" \"Araba / Álava\"             \n",
       "[55] \"Gipuzkoa\"                   \"Bizkaia\"                   \n",
       "[57] \"País Vasco\"                 \"Murcia\"                    \n",
       "[59] \"Región de Murcia\"           \"La Rioja\"                  \n",
       "[61] \"Alicante / Alacant\"         \"Castellón / Castelló\"      \n",
       "[63] \"Valencia / València\"        \"Comunitat Valenciana\"      \n",
       "[65] \"Ceuta\"                      \"Ciudad de Ceuta\"           \n",
       "[67] \"Melilla\"                    \"Ciudad de Melilla\"         \n",
       "[69] \"Total nacional\"            "
      ]
     },
     "metadata": {},
     "output_type": "display_data"
    }
   ],
   "source": [
    "unique(df_provincias$ambito_territorial)"
   ]
  },
  {
   "cell_type": "code",
   "execution_count": 8,
   "id": "f3cf2b47",
   "metadata": {},
   "outputs": [],
   "source": [
    "df_mesas <- mesas(\"congreso\",2019,11)"
   ]
  },
  {
   "cell_type": "markdown",
   "id": "6a19525e",
   "metadata": {},
   "source": [
    "### Export data"
   ]
  },
  {
   "cell_type": "code",
   "execution_count": 21,
   "id": "14d9406f",
   "metadata": {},
   "outputs": [],
   "source": [
    "export_to_csv <- function(df, folder_path) {\n",
    "  # Create the file path by using the name of the data frame and \".csv\"\n",
    "  file_path <- paste(folder_path, \"/\", deparse(substitute(df)), \".csv\", sep = \"\")\n",
    "  \n",
    "  sep <- \";\"\n",
    "  \n",
    "  # Set encoding to \"Latin-1\"\n",
    "  encoding <- \"latin1\"\n",
    "    \n",
    "  # Use the write.csv function to export the data frame to a CSV file\n",
    "  write.csv2(df, file_path, fileEncoding = encoding,row.names = FALSE)\n",
    "  \n",
    "  # Print a message indicating where the file was saved\n",
    "  message(paste(\"File saved to\", file_path))\n",
    "}"
   ]
  },
  {
   "cell_type": "code",
   "execution_count": 22,
   "id": "64c34a3f",
   "metadata": {},
   "outputs": [],
   "source": [
    "folder ='/app/data/'"
   ]
  },
  {
   "cell_type": "code",
   "execution_count": 23,
   "id": "4334b4ef",
   "metadata": {},
   "outputs": [
    {
     "name": "stderr",
     "output_type": "stream",
     "text": [
      "File saved to /app/data//df_municipios.csv\n",
      "\n",
      "File saved to /app/data//df_provincias.csv\n",
      "\n",
      "File saved to /app/data//df_mesas.csv\n",
      "\n"
     ]
    }
   ],
   "source": [
    "export_to_csv(df_municipios,folder)\n",
    "export_to_csv(df_provincias,folder)\n",
    "export_to_csv(df_mesas,folder)"
   ]
  }
 ],
 "metadata": {
  "kernelspec": {
   "display_name": "R",
   "language": "R",
   "name": "ir"
  },
  "language_info": {
   "codemirror_mode": "r",
   "file_extension": ".r",
   "mimetype": "text/x-r-source",
   "name": "R",
   "pygments_lexer": "r",
   "version": "4.2.3"
  }
 },
 "nbformat": 4,
 "nbformat_minor": 5
}

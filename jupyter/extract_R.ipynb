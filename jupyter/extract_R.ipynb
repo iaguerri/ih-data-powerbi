{
 "cells": [
  {
   "cell_type": "markdown",
   "id": "4eff779a",
   "metadata": {},
   "source": [
    "# 🇪🇸 2019 Elections"
   ]
  },
  {
   "cell_type": "markdown",
   "id": "1424ef7e",
   "metadata": {},
   "source": [
    "- libreria OpenSource <a href=\"https://ropenspain.github.io/infoelectoral/index.html\" target=\"_blank\">infoelectoral</a>"
   ]
  },
  {
   "cell_type": "markdown",
   "id": "9c36bbb3",
   "metadata": {},
   "source": [
    "## Data downloaded\n",
    "1. electoral results data at the polling station level $\\rightarrow$ **mesas**\n",
    "2. electoral results data at the municipality level $\\rightarrow$ **municipios**\n",
    "3. electoral results data of the constituency level $\\rightarrow$ **mesas**"
   ]
  },
  {
   "cell_type": "code",
   "execution_count": 4,
   "id": "395a85d3",
   "metadata": {},
   "outputs": [
    {
     "name": "stderr",
     "output_type": "stream",
     "text": [
      "Skipping install of 'infoelectoral' from a github remote, the SHA1 (7d8d682e) has not changed since last install.\n",
      "  Use `force = TRUE` to force installation\n",
      "\n"
     ]
    }
   ],
   "source": [
    "devtools::install_github(\"ropenspain/infoelectoral\")"
   ]
  },
  {
   "cell_type": "code",
   "execution_count": 5,
   "id": "4467a0d9",
   "metadata": {},
   "outputs": [],
   "source": [
    "library(infoelectoral)"
   ]
  },
  {
   "cell_type": "code",
   "execution_count": 6,
   "id": "0f24c315",
   "metadata": {},
   "outputs": [],
   "source": [
    "df_municipios <- municipios(\"congreso\",2019,11, FALSE)"
   ]
  },
  {
   "cell_type": "code",
   "execution_count": 7,
   "id": "0fb512e1",
   "metadata": {},
   "outputs": [],
   "source": [
    "df_provincias <- provincias(\"congreso\",2019,11)"
   ]
  },
  {
   "cell_type": "code",
   "execution_count": 8,
   "id": "f3cf2b47",
   "metadata": {},
   "outputs": [],
   "source": [
    "df_mesas <- mesas(\"congreso\",2019,11)"
   ]
  },
  {
   "cell_type": "markdown",
   "id": "6a19525e",
   "metadata": {},
   "source": [
    "### Export data"
   ]
  },
  {
   "cell_type": "code",
   "execution_count": 21,
   "id": "14d9406f",
   "metadata": {},
   "outputs": [],
   "source": [
    "export_to_csv <- function(df, folder_path) {\n",
    "  # Create the file path by using the name of the data frame and \".csv\"\n",
    "  file_path <- paste(folder_path, \"/\", deparse(substitute(df)), \".csv\", sep = \"\")\n",
    "  \n",
    "  sep <- \";\"\n",
    "  \n",
    "  # Set encoding to \"Latin-1\"\n",
    "  encoding <- \"latin1\"\n",
    "    \n",
    "  # Use the write.csv function to export the data frame to a CSV file\n",
    "  write.csv2(df, file_path, fileEncoding = encoding,row.names = FALSE)\n",
    "  \n",
    "  # Print a message indicating where the file was saved\n",
    "  message(paste(\"File saved to\", file_path))\n",
    "}"
   ]
  },
  {
   "cell_type": "code",
   "execution_count": 22,
   "id": "64c34a3f",
   "metadata": {},
   "outputs": [],
   "source": [
    "folder ='/app/data/'"
   ]
  },
  {
   "cell_type": "code",
   "execution_count": 23,
   "id": "4334b4ef",
   "metadata": {},
   "outputs": [
    {
     "name": "stderr",
     "output_type": "stream",
     "text": [
      "File saved to /app/data//df_municipios.csv\n",
      "\n",
      "File saved to /app/data//df_provincias.csv\n",
      "\n",
      "File saved to /app/data//df_mesas.csv\n",
      "\n"
     ]
    }
   ],
   "source": [
    "export_to_csv(df_municipios,folder)\n",
    "export_to_csv(df_provincias,folder)\n",
    "export_to_csv(df_mesas,folder)"
   ]
  }
 ],
 "metadata": {
  "kernelspec": {
   "display_name": "R",
   "language": "R",
   "name": "ir"
  },
  "language_info": {
   "codemirror_mode": "r",
   "file_extension": ".r",
   "mimetype": "text/x-r-source",
   "name": "R",
   "pygments_lexer": "r",
   "version": "4.2.3"
  }
 },
 "nbformat": 4,
 "nbformat_minor": 5
}
